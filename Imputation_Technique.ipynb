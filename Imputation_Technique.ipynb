{
  "nbformat": 4,
  "nbformat_minor": 0,
  "metadata": {
    "colab": {
      "name": "Imputation_Technique.ipynb",
      "provenance": [],
      "collapsed_sections": [],
      "include_colab_link": true
    },
    "kernelspec": {
      "name": "python3",
      "display_name": "Python 3"
    }
  },
  "cells": [
    {
      "cell_type": "markdown",
      "metadata": {
        "id": "view-in-github",
        "colab_type": "text"
      },
      "source": [
        "<a href=\"https://colab.research.google.com/github/BindiyaB/DataSciencePractice/blob/master/Imputation_Technique.ipynb\" target=\"_parent\"><img src=\"https://colab.research.google.com/assets/colab-badge.svg\" alt=\"Open In Colab\"/></a>"
      ]
    },
    {
      "cell_type": "code",
      "metadata": {
        "id": "0TCI7yZtnspj",
        "colab_type": "code",
        "colab": {}
      },
      "source": [
        "from fancyimpute import KNN, NuclearNormMinimization, SoftImpute, BiScaler\n",
        "from sklearn.datasets import load_boston\n",
        "import numpy as np\n",
        "# https://pypi.org/project/fancyimpute/\n",
        "np.random.seed(0)"
      ],
      "execution_count": 0,
      "outputs": []
    },
    {
      "cell_type": "code",
      "metadata": {
        "id": "f76rp-0en4ea",
        "colab_type": "code",
        "colab": {}
      },
      "source": [
        "boston = load_boston()\n",
        "X=boston.data\n",
        "Y=boston.target"
      ],
      "execution_count": 0,
      "outputs": []
    },
    {
      "cell_type": "code",
      "metadata": {
        "id": "0yGBzdfpq2nc",
        "colab_type": "code",
        "colab": {
          "base_uri": "https://localhost:8080/",
          "height": 36
        },
        "outputId": "12ed31c1-e216-4632-ba23-1193bfafd19b"
      },
      "source": [
        "X.shape, Y.shape"
      ],
      "execution_count": 9,
      "outputs": [
        {
          "output_type": "execute_result",
          "data": {
            "text/plain": [
              "((506, 13), (506,))"
            ]
          },
          "metadata": {
            "tags": []
          },
          "execution_count": 9
        }
      ]
    },
    {
      "cell_type": "code",
      "metadata": {
        "id": "g1CJJ6Jqq5UF",
        "colab_type": "code",
        "colab": {
          "base_uri": "https://localhost:8080/",
          "height": 56
        },
        "outputId": "4a6890a8-086f-4fe5-9b42-97408573744b"
      },
      "source": [
        "boston.DESCR"
      ],
      "execution_count": 11,
      "outputs": [
        {
          "output_type": "execute_result",
          "data": {
            "text/plain": [
              "\".. _boston_dataset:\\n\\nBoston house prices dataset\\n---------------------------\\n\\n**Data Set Characteristics:**  \\n\\n    :Number of Instances: 506 \\n\\n    :Number of Attributes: 13 numeric/categorical predictive. Median Value (attribute 14) is usually the target.\\n\\n    :Attribute Information (in order):\\n        - CRIM     per capita crime rate by town\\n        - ZN       proportion of residential land zoned for lots over 25,000 sq.ft.\\n        - INDUS    proportion of non-retail business acres per town\\n        - CHAS     Charles River dummy variable (= 1 if tract bounds river; 0 otherwise)\\n        - NOX      nitric oxides concentration (parts per 10 million)\\n        - RM       average number of rooms per dwelling\\n        - AGE      proportion of owner-occupied units built prior to 1940\\n        - DIS      weighted distances to five Boston employment centres\\n        - RAD      index of accessibility to radial highways\\n        - TAX      full-value property-tax rate per $10,000\\n        - PTRATIO  pupil-teacher ratio by town\\n        - B        1000(Bk - 0.63)^2 where Bk is the proportion of blacks by town\\n        - LSTAT    % lower status of the population\\n        - MEDV     Median value of owner-occupied homes in $1000's\\n\\n    :Missing Attribute Values: None\\n\\n    :Creator: Harrison, D. and Rubinfeld, D.L.\\n\\nThis is a copy of UCI ML housing dataset.\\nhttps://archive.ics.uci.edu/ml/machine-learning-databases/housing/\\n\\n\\nThis dataset was taken from the StatLib library which is maintained at Carnegie Mellon University.\\n\\nThe Boston house-price data of Harrison, D. and Rubinfeld, D.L. 'Hedonic\\nprices and the demand for clean air', J. Environ. Economics & Management,\\nvol.5, 81-102, 1978.   Used in Belsley, Kuh & Welsch, 'Regression diagnostics\\n...', Wiley, 1980.   N.B. Various transformations are used in the table on\\npages 244-261 of the latter.\\n\\nThe Boston house-price data has been used in many machine learning papers that address regression\\nproblems.   \\n     \\n.. topic:: References\\n\\n   - Belsley, Kuh & Welsch, 'Regression diagnostics: Identifying Influential Data and Sources of Collinearity', Wiley, 1980. 244-261.\\n   - Quinlan,R. (1993). Combining Instance-Based and Model-Based Learning. In Proceedings on the Tenth International Conference of Machine Learning, 236-243, University of Massachusetts, Amherst. Morgan Kaufmann.\\n\""
            ]
          },
          "metadata": {
            "tags": []
          },
          "execution_count": 11
        }
      ]
    },
    {
      "cell_type": "code",
      "metadata": {
        "id": "I4t_hsvtq8ui",
        "colab_type": "code",
        "colab": {}
      },
      "source": [
        "X=X.copy()"
      ],
      "execution_count": 0,
      "outputs": []
    },
    {
      "cell_type": "code",
      "metadata": {
        "id": "8HMao6RB1NkD",
        "colab_type": "code",
        "colab": {}
      },
      "source": [
        "X.ravel()[np.random.choice(X.size, 10, replace=False)] = np.nan # Randomly make 10 values as missing"
      ],
      "execution_count": 0,
      "outputs": []
    },
    {
      "cell_type": "code",
      "metadata": {
        "id": "9YBwGNFT1QqT",
        "colab_type": "code",
        "colab": {
          "base_uri": "https://localhost:8080/",
          "height": 129
        },
        "outputId": "8b02a99a-7637-4952-faea-7d3cf42829b3"
      },
      "source": [
        "X_filled_knn = KNN(k=3).fit_transform(X)"
      ],
      "execution_count": 15,
      "outputs": [
        {
          "output_type": "stream",
          "text": [
            "Imputing row 1/506 with 0 missing, elapsed time: 0.057\n",
            "Imputing row 101/506 with 0 missing, elapsed time: 0.057\n",
            "Imputing row 201/506 with 0 missing, elapsed time: 0.058\n",
            "Imputing row 301/506 with 0 missing, elapsed time: 0.058\n",
            "Imputing row 401/506 with 0 missing, elapsed time: 0.058\n",
            "Imputing row 501/506 with 0 missing, elapsed time: 0.059\n"
          ],
          "name": "stdout"
        }
      ]
    },
    {
      "cell_type": "code",
      "metadata": {
        "id": "XrMaakdb1dRC",
        "colab_type": "code",
        "colab": {
          "base_uri": "https://localhost:8080/",
          "height": 653
        },
        "outputId": "046c1f30-3001-478b-9941-9da42b636580"
      },
      "source": [
        "# matrix completion using convex optimization to find low-rank solution\n",
        "# that still matches observed values. Slow!\n",
        "X_filled_nnm = NuclearNormMinimization().fit_transform(X) #Ask-----------------------------"
      ],
      "execution_count": 16,
      "outputs": [
        {
          "output_type": "stream",
          "text": [
            "----------------------------------------------------------------------------\n",
            "\tSCS v2.1.1 - Splitting Conic Solver\n",
            "\t(c) Brendan O'Donoghue, Stanford University, 2012\n",
            "----------------------------------------------------------------------------\n",
            "Lin-sys: sparse-direct, nnz in A = 180966\n",
            "eps = 1.00e-04, alpha = 1.50, max_iters = 50000, normalize = 1, scale = 1.00\n",
            "acceleration_lookback = 10, rho_x = 1.00e-03\n",
            "Variables n = 148096, constraints m = 161252\n",
            "Cones:\tprimal zero / dual free vars: 6578\n",
            "\tlinear vars: 19734\n",
            "\tsd vars: 134940, sd blks: 1\n",
            "Setup time: 2.83e-01s\n",
            "----------------------------------------------------------------------------\n",
            " Iter | pri res | dua res | rel gap | pri obj | dua obj | kap/tau | time (s)\n",
            "----------------------------------------------------------------------------\n",
            "     0| 5.20e+21  4.88e+21  1.00e+00 -8.08e+26  1.46e+26  1.98e+26  1.34e-01 \n",
            "   100| 7.77e-04  7.96e-04  2.30e-04  1.76e+04  1.76e+04  8.21e-12  3.03e+01 \n",
            "   200| 1.51e-04  1.51e-04  9.94e-06  1.76e+04  1.76e+04  3.56e-12  6.06e+01 \n",
            "   280| 2.79e-05  2.83e-05  1.41e-05  1.76e+04  1.76e+04  2.58e-11  8.50e+01 \n",
            "----------------------------------------------------------------------------\n",
            "Status: Solved\n",
            "Timing: Solve time: 8.50e+01s\n",
            "\tLin-sys: nnz in L factor: 496882, avg solve time: 3.97e-03s\n",
            "\tCones: avg projection time: 2.41e-01s\n",
            "\tAcceleration: avg step time: 4.77e-02s\n",
            "----------------------------------------------------------------------------\n",
            "Error metrics:\n",
            "dist(s, K) = 1.3682e-07, dist(y, K*) = 1.5805e-09, s'y/|s||y| = 4.1633e-13\n",
            "primal res: |Ax + s - b|_2 / (1 + |b|_2) = 2.7936e-05\n",
            "dual res:   |A'y + c|_2 / (1 + |c|_2) = 2.8271e-05\n",
            "rel gap:    |c'x + b'y| / (1 + |c'x| + |b'y|) = 1.4062e-05\n",
            "----------------------------------------------------------------------------\n",
            "c'x = 17629.9821, -b'y = 17629.4863\n",
            "============================================================================\n"
          ],
          "name": "stdout"
        }
      ]
    },
    {
      "cell_type": "code",
      "metadata": {
        "id": "S94V6ek_1i8i",
        "colab_type": "code",
        "colab": {
          "base_uri": "https://localhost:8080/",
          "height": 1000
        },
        "outputId": "a2fd057a-c7ee-4820-e14b-bea95f458685"
      },
      "source": [
        "# Instead of solving the nuclear norm objective directly, instead\n",
        "# induce sparsity using singular value thresholding\n",
        "X_incomplete_normalized = BiScaler().fit_transform(X) #Ask ------------------------------\n",
        "X_filled_softimpute = SoftImpute().fit_transform(X_incomplete_normalized)"
      ],
      "execution_count": 17,
      "outputs": [
        {
          "output_type": "stream",
          "text": [
            "[BiScaler] Initial log residual value = 14.888305\n",
            "[BiScaler] Iter 1: log residual = 3.202414, log improvement ratio=11.685890\n",
            "[BiScaler] Iter 2: log residual = 2.492459, log improvement ratio=0.709956\n",
            "[BiScaler] Iter 3: log residual = 1.823053, log improvement ratio=0.669406\n",
            "[BiScaler] Iter 4: log residual = 1.181499, log improvement ratio=0.641554\n",
            "[BiScaler] Iter 5: log residual = 0.541162, log improvement ratio=0.640336\n",
            "[BiScaler] Iter 6: log residual = -0.105473, log improvement ratio=0.646635\n",
            "[BiScaler] Iter 7: log residual = -0.762242, log improvement ratio=0.656769\n",
            "[BiScaler] Iter 8: log residual = -1.429403, log improvement ratio=0.667161\n",
            "[BiScaler] Iter 9: log residual = -2.105475, log improvement ratio=0.676072\n",
            "[BiScaler] Iter 10: log residual = -2.788405, log improvement ratio=0.682929\n",
            "[BiScaler] Iter 11: log residual = -3.476161, log improvement ratio=0.687756\n",
            "[BiScaler] Iter 12: log residual = -4.166984, log improvement ratio=0.690824\n",
            "[BiScaler] Iter 13: log residual = -4.859463, log improvement ratio=0.692479\n",
            "[BiScaler] Iter 14: log residual = -5.552524, log improvement ratio=0.693061\n",
            "[BiScaler] Iter 15: log residual = -6.245395, log improvement ratio=0.692870\n",
            "[BiScaler] Iter 16: log residual = -6.937548, log improvement ratio=0.692153\n",
            "[BiScaler] Iter 17: log residual = -7.628654, log improvement ratio=0.691106\n",
            "[BiScaler] Iter 18: log residual = -8.318534, log improvement ratio=0.689879\n",
            "[BiScaler] Iter 19: log residual = -9.007117, log improvement ratio=0.688583\n",
            "[BiScaler] Iter 20: log residual = -9.694413, log improvement ratio=0.687296\n",
            "[BiScaler] Iter 21: log residual = -10.380486, log improvement ratio=0.686073\n",
            "[BiScaler] Iter 22: log residual = -11.065433, log improvement ratio=0.684947\n",
            "[BiScaler] Iter 23: log residual = -11.749372, log improvement ratio=0.683938\n",
            "[BiScaler] Iter 24: log residual = -12.432427, log improvement ratio=0.683056\n",
            "[BiScaler] Iter 25: log residual = -13.114729, log improvement ratio=0.682302\n",
            "[BiScaler] Iter 26: log residual = -13.796402, log improvement ratio=0.681673\n",
            "[BiScaler] Iter 27: log residual = -14.477563, log improvement ratio=0.681161\n",
            "[BiScaler] Iter 28: log residual = -15.158323, log improvement ratio=0.680759\n",
            "[BiScaler] Iter 29: log residual = -15.838780, log improvement ratio=0.680457\n",
            "[BiScaler] Iter 30: log residual = -16.519024, log improvement ratio=0.680244\n",
            "[BiScaler] Iter 31: log residual = -17.199135, log improvement ratio=0.680111\n",
            "[BiScaler] Iter 32: log residual = -17.879183, log improvement ratio=0.680048\n",
            "[BiScaler] Iter 33: log residual = -18.559229, log improvement ratio=0.680046\n",
            "[BiScaler] Iter 34: log residual = -19.239326, log improvement ratio=0.680097\n",
            "[BiScaler] Iter 35: log residual = -19.919518, log improvement ratio=0.680192\n",
            "[BiScaler] Iter 36: log residual = -20.599845, log improvement ratio=0.680327\n",
            "[BiScaler] Iter 37: log residual = -21.280338, log improvement ratio=0.680493\n",
            "[BiScaler] Iter 38: log residual = -21.961025, log improvement ratio=0.680687\n",
            "[BiScaler] Iter 39: log residual = -22.641927, log improvement ratio=0.680903\n",
            "[BiScaler] Iter 40: log residual = -23.323064, log improvement ratio=0.681136\n",
            "[BiScaler] Iter 41: log residual = -24.004448, log improvement ratio=0.681384\n",
            "[BiScaler] Iter 42: log residual = -24.686090, log improvement ratio=0.681643\n",
            "[BiScaler] Iter 43: log residual = -25.368000, log improvement ratio=0.681910\n",
            "[BiScaler] Iter 44: log residual = -26.050183, log improvement ratio=0.682183\n",
            "[BiScaler] Iter 45: log residual = -26.732643, log improvement ratio=0.682460\n",
            "[BiScaler] Iter 46: log residual = -27.415381, log improvement ratio=0.682738\n",
            "[BiScaler] Iter 47: log residual = -28.098398, log improvement ratio=0.683017\n",
            "[BiScaler] Iter 48: log residual = -28.781694, log improvement ratio=0.683295\n",
            "[BiScaler] Iter 49: log residual = -29.465265, log improvement ratio=0.683572\n",
            "[BiScaler] Iter 50: log residual = -30.149110, log improvement ratio=0.683845\n",
            "[BiScaler] Iter 51: log residual = -30.833225, log improvement ratio=0.684114\n",
            "[BiScaler] Iter 52: log residual = -31.517604, log improvement ratio=0.684380\n",
            "[BiScaler] Iter 53: log residual = -32.202245, log improvement ratio=0.684640\n",
            "[BiScaler] Iter 54: log residual = -32.887140, log improvement ratio=0.684896\n",
            "[BiScaler] Iter 55: log residual = -33.572286, log improvement ratio=0.685145\n",
            "[BiScaler] Iter 56: log residual = -34.257674, log improvement ratio=0.685388\n",
            "[BiScaler] Iter 57: log residual = -34.943302, log improvement ratio=0.685628\n",
            "[BiScaler] Iter 58: log residual = -35.629160, log improvement ratio=0.685858\n",
            "[BiScaler] Iter 59: log residual = -36.315243, log improvement ratio=0.686083\n",
            "[BiScaler] Iter 60: log residual = -37.001547, log improvement ratio=0.686304\n",
            "[BiScaler] Iter 61: log residual = -37.688060, log improvement ratio=0.686513\n",
            "[BiScaler] Iter 62: log residual = -38.374784, log improvement ratio=0.686723\n",
            "[BiScaler] Iter 63: log residual = -39.061706, log improvement ratio=0.686922\n",
            "[BiScaler] Iter 64: log residual = -39.748822, log improvement ratio=0.687116\n",
            "[BiScaler] Iter 65: log residual = -40.436120, log improvement ratio=0.687299\n",
            "[BiScaler] Iter 66: log residual = -41.123613, log improvement ratio=0.687493\n",
            "[BiScaler] Iter 67: log residual = -41.811262, log improvement ratio=0.687649\n",
            "[BiScaler] Iter 68: log residual = -42.499096, log improvement ratio=0.687834\n",
            "[BiScaler] Iter 69: log residual = -43.187116, log improvement ratio=0.688020\n",
            "[BiScaler] Iter 70: log residual = -43.875254, log improvement ratio=0.688138\n",
            "[BiScaler] Iter 71: log residual = -44.563551, log improvement ratio=0.688297\n",
            "[BiScaler] Iter 72: log residual = -45.251880, log improvement ratio=0.688329\n",
            "[BiScaler] Iter 73: log residual = -45.940770, log improvement ratio=0.688889\n",
            "[BiScaler] Iter 74: log residual = -46.629281, log improvement ratio=0.688512\n",
            "[BiScaler] Iter 75: log residual = -47.318046, log improvement ratio=0.688765\n",
            "[BiScaler] Iter 76: log residual = -48.007114, log improvement ratio=0.689068\n",
            "[BiScaler] Iter 77: log residual = -48.696608, log improvement ratio=0.689493\n",
            "[BiScaler] Iter 78: log residual = -49.385076, log improvement ratio=0.688468\n",
            "[BiScaler] Iter 79: log residual = -50.075405, log improvement ratio=0.690329\n",
            "[BiScaler] Iter 80: log residual = -50.764805, log improvement ratio=0.689401\n",
            "[BiScaler] Iter 81: log residual = -51.454452, log improvement ratio=0.689647\n",
            "[BiScaler] Iter 82: log residual = -52.141996, log improvement ratio=0.687544\n",
            "[BiScaler] Iter 83: log residual = -52.833303, log improvement ratio=0.691306\n",
            "[BiScaler] Iter 84: log residual = -53.520998, log improvement ratio=0.687695\n",
            "[BiScaler] Iter 85: log residual = -54.218948, log improvement ratio=0.697950\n",
            "[BiScaler] Iter 86: log residual = -54.906234, log improvement ratio=0.687286\n",
            "[BiScaler] Iter 87: log residual = -55.578817, log improvement ratio=0.672582\n",
            "[BiScaler] Iter 88: log residual = -56.290608, log improvement ratio=0.711792\n",
            "[BiScaler] Iter 89: log residual = -56.982441, log improvement ratio=0.691833\n",
            "[BiScaler] Iter 90: log residual = -57.624693, log improvement ratio=0.642252\n",
            "[BiScaler] Iter 91: log residual = -58.332549, log improvement ratio=0.707856\n",
            "[BiScaler] Iter 92: log residual = -59.030081, log improvement ratio=0.697532\n",
            "[BiScaler] Iter 93: log residual = -59.790455, log improvement ratio=0.760374\n",
            "[BiScaler] Iter 94: log residual = -60.320437, log improvement ratio=0.529982\n",
            "[BiScaler] Iter 95: log residual = -61.212952, log improvement ratio=0.892515\n",
            "[BiScaler] Iter 96: log residual = -61.918769, log improvement ratio=0.705817\n",
            "[BiScaler] Iter 97: log residual = -62.523820, log improvement ratio=0.605051\n",
            "[BiScaler] Iter 98: log residual = -62.538752, log improvement ratio=0.014931\n",
            "[BiScaler] Iter 99: log residual = -63.642051, log improvement ratio=1.103300\n",
            "[BiScaler] Iter 100: log residual = -63.696071, log improvement ratio=0.054020\n",
            "[SoftImpute] Max Singular Value of X_init = 51.546049\n",
            "[SoftImpute] Iter 1: observed MAE=0.032211 rank=12\n",
            "[SoftImpute] Iter 2: observed MAE=0.032220 rank=12\n",
            "[SoftImpute] Iter 3: observed MAE=0.032230 rank=12\n",
            "[SoftImpute] Iter 4: observed MAE=0.032242 rank=12\n",
            "[SoftImpute] Iter 5: observed MAE=0.032253 rank=12\n",
            "[SoftImpute] Iter 6: observed MAE=0.032263 rank=12\n",
            "[SoftImpute] Iter 7: observed MAE=0.032271 rank=12\n",
            "[SoftImpute] Iter 8: observed MAE=0.032279 rank=12\n",
            "[SoftImpute] Iter 9: observed MAE=0.032285 rank=12\n",
            "[SoftImpute] Iter 10: observed MAE=0.032291 rank=12\n",
            "[SoftImpute] Iter 11: observed MAE=0.032296 rank=12\n",
            "[SoftImpute] Iter 12: observed MAE=0.032300 rank=12\n",
            "[SoftImpute] Iter 13: observed MAE=0.032303 rank=12\n",
            "[SoftImpute] Iter 14: observed MAE=0.032307 rank=12\n",
            "[SoftImpute] Iter 15: observed MAE=0.032309 rank=12\n",
            "[SoftImpute] Iter 16: observed MAE=0.032312 rank=12\n",
            "[SoftImpute] Iter 17: observed MAE=0.032314 rank=12\n",
            "[SoftImpute] Iter 18: observed MAE=0.032316 rank=12\n",
            "[SoftImpute] Iter 19: observed MAE=0.032317 rank=12\n",
            "[SoftImpute] Iter 20: observed MAE=0.032318 rank=12\n",
            "[SoftImpute] Iter 21: observed MAE=0.032319 rank=12\n",
            "[SoftImpute] Iter 22: observed MAE=0.032320 rank=12\n",
            "[SoftImpute] Iter 23: observed MAE=0.032321 rank=12\n",
            "[SoftImpute] Iter 24: observed MAE=0.032322 rank=12\n",
            "[SoftImpute] Iter 25: observed MAE=0.032323 rank=12\n",
            "[SoftImpute] Iter 26: observed MAE=0.032323 rank=12\n",
            "[SoftImpute] Iter 27: observed MAE=0.032324 rank=12\n",
            "[SoftImpute] Iter 28: observed MAE=0.032324 rank=12\n",
            "[SoftImpute] Iter 29: observed MAE=0.032324 rank=12\n",
            "[SoftImpute] Iter 30: observed MAE=0.032325 rank=12\n",
            "[SoftImpute] Iter 31: observed MAE=0.032325 rank=12\n",
            "[SoftImpute] Iter 32: observed MAE=0.032325 rank=12\n",
            "[SoftImpute] Iter 33: observed MAE=0.032325 rank=12\n",
            "[SoftImpute] Iter 34: observed MAE=0.032325 rank=12\n",
            "[SoftImpute] Stopped after iteration 34 for lambda=1.030921\n"
          ],
          "name": "stdout"
        }
      ]
    },
    {
      "cell_type": "code",
      "metadata": {
        "id": "CzuO29beMKMA",
        "colab_type": "code",
        "colab": {}
      },
      "source": [
        "missing_mask = np.isnan(X)"
      ],
      "execution_count": 0,
      "outputs": []
    },
    {
      "cell_type": "markdown",
      "metadata": {
        "id": "4rcvVuDoTqep",
        "colab_type": "text"
      },
      "source": [
        "Scikitlearn imputer"
      ]
    },
    {
      "cell_type": "code",
      "metadata": {
        "id": "nA2WATeQTmzV",
        "colab_type": "code",
        "colab": {}
      },
      "source": [
        "from sklearn.impute import SimpleImputer\n",
        "import numpy as np"
      ],
      "execution_count": 0,
      "outputs": []
    },
    {
      "cell_type": "code",
      "metadata": {
        "id": "fm_iey7TT9-E",
        "colab_type": "code",
        "colab": {
          "base_uri": "https://localhost:8080/",
          "height": 148
        },
        "outputId": "082eab88-9de9-416b-ca29-0283277708c0"
      },
      "source": [
        "imp_mean = SimpleImputer(missing_values=np.nan, strategy='mean')\n",
        "imp_mean.fit(X)\n",
        "X_mean_filled = imp_mean.transform(X)\n",
        "print(X_mean_filled)"
      ],
      "execution_count": 30,
      "outputs": [
        {
          "output_type": "stream",
          "text": [
            "[[6.3200e-03 1.8000e+01 2.3100e+00 ... 1.5300e+01 3.9690e+02 4.9800e+00]\n",
            " [2.7310e-02 0.0000e+00 7.0700e+00 ... 1.7800e+01 3.9690e+02 9.1400e+00]\n",
            " [2.7290e-02 0.0000e+00 7.0700e+00 ... 1.7800e+01 3.9283e+02 4.0300e+00]\n",
            " ...\n",
            " [6.0760e-02 0.0000e+00 1.1930e+01 ... 2.1000e+01 3.9690e+02 5.6400e+00]\n",
            " [1.0959e-01 0.0000e+00 1.1930e+01 ... 2.1000e+01 3.9345e+02 6.4800e+00]\n",
            " [4.7410e-02 0.0000e+00 1.1930e+01 ... 2.1000e+01 3.9690e+02 7.8800e+00]]\n"
          ],
          "name": "stdout"
        }
      ]
    },
    {
      "cell_type": "markdown",
      "metadata": {
        "id": "pBApG_peUp8W",
        "colab_type": "text"
      },
      "source": [
        "Error Matrics"
      ]
    },
    {
      "cell_type": "code",
      "metadata": {
        "id": "i8E1-SJnUG__",
        "colab_type": "code",
        "colab": {
          "base_uri": "https://localhost:8080/",
          "height": 92
        },
        "outputId": "6b4b289b-9cc3-42be-ba18-4f948dfa307f"
      },
      "source": [
        "# print mean squared error for the  imputation methods above\n",
        "nnm_mse = ((X_filled_nnm[missing_mask] - boston.data[missing_mask]) ** 2).mean()\n",
        "print(\"Nuclear norm minimization MSE: %f\" % nnm_mse)\n",
        "\n",
        "softImpute_mse = ((X_filled_softimpute[missing_mask] - boston.data[missing_mask]) ** 2).mean()\n",
        "print(\"SoftImpute MSE: %f\" % softImpute_mse)\n",
        "\n",
        "knn_mse = ((X_filled_knn[missing_mask] - boston.data[missing_mask]) ** 2).mean()\n",
        "print(\"knnImpute MSE: %f\" % knn_mse)\n",
        "\n",
        "simple_mean_mse = ((X_mean_filled[missing_mask] - boston.data[missing_mask]) ** 2).mean()\n",
        "print(\"Simple Mean Impute MSE: %f\" % simple_mean_mse)\n",
        "\n"
      ],
      "execution_count": 31,
      "outputs": [
        {
          "output_type": "stream",
          "text": [
            "Nuclear norm minimization MSE: 10850.010146\n",
            "SoftImpute MSE: 49625.567963\n",
            "knnImpute MSE: 128.216236\n",
            "Simple Mean Impute MSE: 327.665894\n"
          ],
          "name": "stdout"
        }
      ]
    },
    {
      "cell_type": "markdown",
      "metadata": {
        "id": "8f8OxznGUkI3",
        "colab_type": "text"
      },
      "source": [
        ""
      ]
    },
    {
      "cell_type": "code",
      "metadata": {
        "id": "pS7S9HH-UiL-",
        "colab_type": "code",
        "colab": {}
      },
      "source": [
        "from matplotlib import pyplot as plt"
      ],
      "execution_count": 0,
      "outputs": []
    },
    {
      "cell_type": "code",
      "metadata": {
        "id": "Gg0RiCqnUnxT",
        "colab_type": "code",
        "colab": {
          "base_uri": "https://localhost:8080/",
          "height": 288
        },
        "outputId": "d065bc5e-fa67-423e-ef06-526be43cb0dc"
      },
      "source": [
        "fig,ax=plt.subplots(1,1)\n",
        "ax.plot(X_filled_nnm[missing_mask],\"o\",label='NNM filling')\n",
        "ax.plot(X_filled_softimpute[missing_mask],\"*\",label='Soft filling')\n",
        "ax.plot(X_filled_knn[missing_mask],\"<\",label='KNN filling')\n",
        "ax.plot(X_mean_filled[missing_mask],\"s\",label='Mean filling')\n",
        "ax.plot(boston.data[missing_mask],\"v\",label='actual')\n",
        "ax.legend(loc='best') # What is loc best"
      ],
      "execution_count": 38,
      "outputs": [
        {
          "output_type": "execute_result",
          "data": {
            "text/plain": [
              "<matplotlib.legend.Legend at 0x7f2345ef32b0>"
            ]
          },
          "metadata": {
            "tags": []
          },
          "execution_count": 38
        },
        {
          "output_type": "display_data",
          "data": {
            "image/png": "[encoded data removed]",
            "text/plain": [
              "<Figure size 432x288 with 1 Axes>"
            ]
          },
          "metadata": {
            "tags": []
          }
        }
      ]
    }
  ]
}