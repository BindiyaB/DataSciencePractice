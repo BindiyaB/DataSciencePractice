{
  "nbformat": 4,
  "nbformat_minor": 0,
  "metadata": {
    "colab": {
      "name": "Understanding_SGD.ipynb",
      "provenance": [],
      "collapsed_sections": [],
      "include_colab_link": true
    },
    "kernelspec": {
      "name": "python3",
      "display_name": "Python 3"
    }
  },
  "cells": [
    {
      "cell_type": "markdown",
      "metadata": {
        "id": "view-in-github",
        "colab_type": "text"
      },
      "source": [
        "<a href=\"https://colab.research.google.com/github/BindiyaB/DataSciencePractice/blob/master/Understanding_SGD.ipynb\" target=\"_parent\"><img src=\"https://colab.research.google.com/assets/colab-badge.svg\" alt=\"Open In Colab\"/></a>"
      ]
    },
    {
      "cell_type": "code",
      "metadata": {
        "id": "dAktDVA_wFzy",
        "colab_type": "code",
        "colab": {}
      },
      "source": [
        "import numpy as np"
      ],
      "execution_count": 0,
      "outputs": []
    },
    {
      "cell_type": "code",
      "metadata": {
        "id": "Pyt2jQuNwIWM",
        "colab_type": "code",
        "outputId": "bf9c78aa-9075-4f22-8aea-a65a23d8c662",
        "colab": {
          "base_uri": "https://localhost:8080/",
          "height": 36
        }
      },
      "source": [
        "\n",
        "\n",
        "x = np.array([1,2])\n",
        "x"
      ],
      "execution_count": 2,
      "outputs": [
        {
          "output_type": "execute_result",
          "data": {
            "text/plain": [
              "array([1, 2])"
            ]
          },
          "metadata": {
            "tags": []
          },
          "execution_count": 2
        }
      ]
    },
    {
      "cell_type": "code",
      "metadata": {
        "id": "c_ITUUSEwtE-",
        "colab_type": "code",
        "colab": {}
      },
      "source": [
        "y = np.array([3,5])"
      ],
      "execution_count": 0,
      "outputs": []
    },
    {
      "cell_type": "code",
      "metadata": {
        "id": "o3WTfCBYw29x",
        "colab_type": "code",
        "colab": {}
      },
      "source": [
        "def func(x,a,b):\n",
        "    y = a*x+b\n",
        "    return y"
      ],
      "execution_count": 0,
      "outputs": []
    },
    {
      "cell_type": "code",
      "metadata": {
        "id": "QefKj0SoxDHd",
        "colab_type": "code",
        "colab": {}
      },
      "source": [
        "def Error(x,ytrue,a,b):\n",
        "    E = np.sqrt(((ytrue-func(x,a,b))**2)).mean()\n",
        "    return E"
      ],
      "execution_count": 0,
      "outputs": []
    },
    {
      "cell_type": "code",
      "metadata": {
        "id": "KgwtZ4IcyLp2",
        "colab_type": "code",
        "colab": {}
      },
      "source": [
        "a=10\n",
        "b=3"
      ],
      "execution_count": 0,
      "outputs": []
    },
    {
      "cell_type": "code",
      "metadata": {
        "id": "UnouN6zqyQmW",
        "colab_type": "code",
        "outputId": "517d5a6e-f6e3-49bd-ef47-ca3ae4985a3b",
        "colab": {
          "base_uri": "https://localhost:8080/",
          "height": 36
        }
      },
      "source": [
        "E1 = Error(x,y,a,b)\n",
        "E1"
      ],
      "execution_count": 7,
      "outputs": [
        {
          "output_type": "execute_result",
          "data": {
            "text/plain": [
              "14.0"
            ]
          },
          "metadata": {
            "tags": []
          },
          "execution_count": 7
        }
      ]
    },
    {
      "cell_type": "code",
      "metadata": {
        "id": "07ceBChrzWy2",
        "colab_type": "code",
        "outputId": "a8dfad4f-268f-41e2-d252-93823e2213dd",
        "colab": {
          "base_uri": "https://localhost:8080/",
          "height": 36
        }
      },
      "source": [
        "dela = a/100\n",
        "delb = b/100\n",
        "Ea = Error(x,y,a+dela,b)\n",
        "Eb = Error(x,y,a,b+delb)\n",
        "\n",
        "Ea,Eb"
      ],
      "execution_count": 0,
      "outputs": [
        {
          "output_type": "execute_result",
          "data": {
            "text/plain": [
              "(433.24999999999994, 425.6818)"
            ]
          },
          "metadata": {
            "tags": []
          },
          "execution_count": 21
        }
      ]
    },
    {
      "cell_type": "code",
      "metadata": {
        "id": "SQK4xJe_0WnG",
        "colab_type": "code",
        "colab": {}
      },
      "source": [
        ""
      ],
      "execution_count": 0,
      "outputs": []
    },
    {
      "cell_type": "code",
      "metadata": {
        "id": "OQ6hGZhVzieG",
        "colab_type": "code",
        "outputId": "6a140d0c-da1e-462a-ff11-605611957550",
        "colab": {
          "base_uri": "https://localhost:8080/",
          "height": 36
        }
      },
      "source": [
        "#Now calculate the derivative w.r.t to a and b\n",
        "dE_da =(E1-Ea)/dela # TODO: fill in the numerator\n",
        "dE_db = (E1-Eb)/delb # TODO: fill in the numerator\n",
        "dE_da, dE_db"
      ],
      "execution_count": 0,
      "outputs": [
        {
          "output_type": "execute_result",
          "data": {
            "text/plain": [
              "(-92.49999999999943, -56.06000000000033)"
            ]
          },
          "metadata": {
            "tags": []
          },
          "execution_count": 20
        }
      ]
    }
  ]
}