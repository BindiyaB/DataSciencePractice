{
  "nbformat": 4,
  "nbformat_minor": 0,
  "metadata": {
    "colab": {
      "name": "Imputation_Split.ipynb",
      "provenance": [],
      "collapsed_sections": [],
      "include_colab_link": true
    },
    "kernelspec": {
      "name": "python3",
      "display_name": "Python 3"
    }
  },
  "cells": [
    {
      "cell_type": "markdown",
      "metadata": {
        "id": "view-in-github",
        "colab_type": "text"
      },
      "source": [
        "<a href=\"https://colab.research.google.com/github/BindiyaB/DataSciencePractice/blob/master/Imputation_Split.ipynb\" target=\"_parent\"><img src=\"https://colab.research.google.com/assets/colab-badge.svg\" alt=\"Open In Colab\"/></a>"
      ]
    },
    {
      "cell_type": "code",
      "metadata": {
        "id": "jcFiyw5zi2hZ",
        "colab_type": "code",
        "colab": {
          "base_uri": "https://localhost:8080/",
          "height": 93
        },
        "outputId": "1c3acda9-241b-468a-8aec-c25788799ed4"
      },
      "source": [
        "import numpy as np\n",
        "from sklearn.model_selection import train_test_split\n",
        "from sklearn.impute import SimpleImputer\n",
        "from matplotlib import pyplot as plt\n",
        "from fancyimpute import KNN, NuclearNormMinimization, SoftImpute, BiScaler"
      ],
      "execution_count": 2,
      "outputs": [
        {
          "output_type": "stream",
          "text": [
            "/usr/local/lib/python3.6/dist-packages/sklearn/externals/six.py:31: DeprecationWarning: The module is deprecated in version 0.21 and will be removed in version 0.23 since we've dropped support for Python 2.7. Please rely on the official version of six (https://pypi.org/project/six/).\n",
            "  \"(https://pypi.org/project/six/).\", DeprecationWarning)\n",
            "Using TensorFlow backend.\n"
          ],
          "name": "stderr"
        }
      ]
    },
    {
      "cell_type": "code",
      "metadata": {
        "id": "iy7ulIaFjJd2",
        "colab_type": "code",
        "colab": {}
      },
      "source": [
        "from sklearn.datasets import load_diabetes"
      ],
      "execution_count": 0,
      "outputs": []
    },
    {
      "cell_type": "code",
      "metadata": {
        "id": "mYNo_kHskX0J",
        "colab_type": "code",
        "colab": {}
      },
      "source": [
        "diabetes=load_diabetes()"
      ],
      "execution_count": 0,
      "outputs": []
    },
    {
      "cell_type": "code",
      "metadata": {
        "id": "tCJ2ZxLMkdQ5",
        "colab_type": "code",
        "colab": {
          "base_uri": "https://localhost:8080/",
          "height": 56
        },
        "outputId": "d3175e9b-b6d9-484b-e019-d8ccf01b1c8d"
      },
      "source": [
        "diabetes.DESCR"
      ],
      "execution_count": 5,
      "outputs": [
        {
          "output_type": "execute_result",
          "data": {
            "text/plain": [
              "'.. _diabetes_dataset:\\n\\nDiabetes dataset\\n----------------\\n\\nTen baseline variables, age, sex, body mass index, average blood\\npressure, and six blood serum measurements were obtained for each of n =\\n442 diabetes patients, as well as the response of interest, a\\nquantitative measure of disease progression one year after baseline.\\n\\n**Data Set Characteristics:**\\n\\n  :Number of Instances: 442\\n\\n  :Number of Attributes: First 10 columns are numeric predictive values\\n\\n  :Target: Column 11 is a quantitative measure of disease progression one year after baseline\\n\\n  :Attribute Information:\\n      - Age\\n      - Sex\\n      - Body mass index\\n      - Average blood pressure\\n      - S1\\n      - S2\\n      - S3\\n      - S4\\n      - S5\\n      - S6\\n\\nNote: Each of these 10 feature variables have been mean centered and scaled by the standard deviation times `n_samples` (i.e. the sum of squares of each column totals 1).\\n\\nSource URL:\\nhttps://www4.stat.ncsu.edu/~boos/var.select/diabetes.html\\n\\nFor more information see:\\nBradley Efron, Trevor Hastie, Iain Johnstone and Robert Tibshirani (2004) \"Least Angle Regression,\" Annals of Statistics (with discussion), 407-499.\\n(https://web.stanford.edu/~hastie/Papers/LARS/LeastAngle_2002.pdf)'"
            ]
          },
          "metadata": {
            "tags": []
          },
          "execution_count": 5
        }
      ]
    },
    {
      "cell_type": "code",
      "metadata": {
        "id": "e0svqNtukgM0",
        "colab_type": "code",
        "colab": {}
      },
      "source": [
        "X=diabetes.data\n",
        "Y=diabetes.target"
      ],
      "execution_count": 0,
      "outputs": []
    },
    {
      "cell_type": "code",
      "metadata": {
        "id": "fupwUuFNk5ka",
        "colab_type": "code",
        "colab": {
          "base_uri": "https://localhost:8080/",
          "height": 36
        },
        "outputId": "c09b29fd-0e1f-4ad8-cc8f-f5b47e98e883"
      },
      "source": [
        "X.shape, Y.shape"
      ],
      "execution_count": 48,
      "outputs": [
        {
          "output_type": "execute_result",
          "data": {
            "text/plain": [
              "((442, 10), (442,))"
            ]
          },
          "metadata": {
            "tags": []
          },
          "execution_count": 48
        }
      ]
    },
    {
      "cell_type": "code",
      "metadata": {
        "id": "Jwih4t8YlU1f",
        "colab_type": "code",
        "colab": {}
      },
      "source": [
        "X=X.copy() # Why do this?????????????\n",
        "Xoriginal=X.copy()"
      ],
      "execution_count": 0,
      "outputs": []
    },
    {
      "cell_type": "code",
      "metadata": {
        "id": "cGg2uCePleoe",
        "colab_type": "code",
        "colab": {}
      },
      "source": [
        "X.ravel()[np.random.choice(X.size, 50, replace=False)] = np.nan # Randomly make 30 values as missing"
      ],
      "execution_count": 0,
      "outputs": []
    },
    {
      "cell_type": "code",
      "metadata": {
        "id": "_i6dXdEBAlIO",
        "colab_type": "code",
        "colab": {}
      },
      "source": [
        "#Function to Split data\n",
        "def train_test_val_split(X,Y):\n",
        "  Xtn,Xtt,Ytn,Ytt=train_test_split(X,Y,test_size=0.20)\n",
        "  Xv,Xtt,Yv,Ytt=train_test_split(Xtt,Ytt,test_size=0.5)\n",
        "  return Xtn,Ytn,Xtt,Ytt,Xv,Yv"
      ],
      "execution_count": 0,
      "outputs": []
    },
    {
      "cell_type": "code",
      "metadata": {
        "id": "4lFsA9LiA12I",
        "colab_type": "code",
        "colab": {
          "base_uri": "https://localhost:8080/",
          "height": 36
        },
        "outputId": "6a8cf20b-5bbf-4bdc-d0aa-59c5d9c06e01"
      },
      "source": [
        "Xtn,Ytn,Xtt,Ytt,Xv,Yv=train_test_val_split(X,Y)\n",
        "Xtn.shape,Ytn.shape,Xtt.shape,Ytt.shape,Xv.shape,Yv.shape"
      ],
      "execution_count": 85,
      "outputs": [
        {
          "output_type": "execute_result",
          "data": {
            "text/plain": [
              "((353, 10), (353,), (45, 10), (45,), (44, 10), (44,))"
            ]
          },
          "metadata": {
            "tags": []
          },
          "execution_count": 85
        }
      ]
    },
    {
      "cell_type": "code",
      "metadata": {
        "id": "C7AMp0ixBAn3",
        "colab_type": "code",
        "colab": {
          "base_uri": "https://localhost:8080/",
          "height": 36
        },
        "outputId": "35e0293f-252e-4454-ae01-3f92addd44cd"
      },
      "source": [
        "missing_mask = np.isnan(X)\n",
        "Xoriginal[missing_mask]"
      ],
      "execution_count": 71,
      "outputs": [
        {
          "output_type": "execute_result",
          "data": {
            "text/plain": [
              "array([], dtype=float64)"
            ]
          },
          "metadata": {
            "tags": []
          },
          "execution_count": 71
        }
      ]
    },
    {
      "cell_type": "markdown",
      "metadata": {
        "id": "y2PzhGpultyX",
        "colab_type": "text"
      },
      "source": [
        "Imputation Technique"
      ]
    },
    {
      "cell_type": "code",
      "metadata": {
        "id": "SWq-mzf4lnzE",
        "colab_type": "code",
        "colab": {}
      },
      "source": [
        "#KNN Filling\n",
        "def knn_fill(Xtn,Xtt,Xv,Xoriginal):\n",
        "  missing_mask_tn = np.isnan(Xtn)\n",
        "  missing_mask_tt = np.isnan(Xtt)\n",
        "  missing_mask_v = np.isnan(Xv)\n",
        "  \n",
        "  knn = KNN(k=5)\n",
        " \n",
        "#   knn.fit(Xtn,Ytn)\n",
        "  \n",
        "#   Xtn_t=knn.transform(Xtn)\n",
        "#   Xtt_t=knn.transform(Xtt)\n",
        "#   Xv_t=knn.transform(Xv)\n",
        "  Xtn_t=knn.fit_transform(Xtn)\n",
        "  Xtt_t=knn.fit_transform(Xtt)\n",
        "  Xv_t=knn.fit_transform(Xv)\n",
        "  \n",
        "  Xtn_mse = ((Xtn[missing_mask_tn] - Xtn_t[missing_mask_tn])**2).mean()\n",
        "  Xtt_mse = ((Xtt[missing_mask_tt] - Xtt_t[missing_mask_tt])**2).mean()\n",
        "  Xv_mse = ((Xv[missing_mask_v] - Xv_t[missing_mask_v])**2).mean()\n",
        "  \n",
        "  print(\"knn Impute MSE:\")\n",
        "  print(\"knn Impute MSE: %f\" % Xtn_mse)\n",
        "  print(\"knn Impute MSE: %f\" % Xtt_mse)\n",
        "  print(\"knn Impute MSE: %f\" % Xv_mse)\n",
        "  \n",
        "  return Xtn_t,Xtt_t,Xv_t,Xtn_mse,Xtt_mse,Xv_mse"
      ],
      "execution_count": 0,
      "outputs": []
    },
    {
      "cell_type": "code",
      "metadata": {
        "id": "sPC3u9EeDY6x",
        "colab_type": "code",
        "colab": {
          "base_uri": "https://localhost:8080/",
          "height": 204
        },
        "outputId": "b1a1d59c-8da7-4d70-c8a9-175996ba31c7"
      },
      "source": [
        "Xtn_t,Xtt_t,Xv_t,Xtn_mse,Xtt_mse,Xv_mse = knn_fill(Xtn,Xtt,Xv,Xoriginal)"
      ],
      "execution_count": 87,
      "outputs": [
        {
          "output_type": "stream",
          "text": [
            "Imputing row 1/353 with 1 missing, elapsed time: 0.032\n",
            "Imputing row 101/353 with 0 missing, elapsed time: 0.033\n",
            "Imputing row 201/353 with 0 missing, elapsed time: 0.033\n",
            "Imputing row 301/353 with 0 missing, elapsed time: 0.034\n",
            "Imputing row 1/45 with 0 missing, elapsed time: 0.001\n",
            "Imputing row 1/44 with 0 missing, elapsed time: 0.001\n",
            "knn Impute MSE:\n",
            "knn Impute MSE: nan\n",
            "knn Impute MSE: nan\n",
            "knn Impute MSE: nan\n"
          ],
          "name": "stdout"
        }
      ]
    },
    {
      "cell_type": "code",
      "metadata": {
        "id": "-t7CVR_ApMmy",
        "colab_type": "code",
        "colab": {}
      },
      "source": [
        "knn_mse = ((X_filled_knn[missing_mask] - diabetes.data[missing_mask]) ** 2).mean()\n",
        "print(\"knnImpute MSE: %f\" % knn_mse)\n",
        "\n",
        "#With k=3 --0.001336\n",
        "#With k=5 -- 0.001111\n",
        "#With k=10 -- 0.001134\n",
        "#With k=7, -- 0.001129\n",
        "\n",
        "#So, keep k =5\n"
      ],
      "execution_count": 0,
      "outputs": []
    },
    {
      "cell_type": "code",
      "metadata": {
        "id": "gzwjG_cWpy46",
        "colab_type": "code",
        "colab": {}
      },
      "source": [
        ""
      ],
      "execution_count": 0,
      "outputs": []
    }
  ]
}