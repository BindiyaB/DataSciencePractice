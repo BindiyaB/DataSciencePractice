{
  "nbformat": 4,
  "nbformat_minor": 0,
  "metadata": {
    "colab": {
      "name": "Training_Dataset.ipynb",
      "provenance": [],
      "include_colab_link": true
    },
    "kernelspec": {
      "name": "python3",
      "display_name": "Python 3"
    }
  },
  "cells": [
    {
      "cell_type": "markdown",
      "metadata": {
        "id": "view-in-github",
        "colab_type": "text"
      },
      "source": [
        "<a href=\"https://colab.research.google.com/github/BindiyaB/DataSciencePractice/blob/master/Split_Dataset.ipynb\" target=\"_parent\"><img src=\"https://colab.research.google.com/assets/colab-badge.svg\" alt=\"Open In Colab\"/></a>"
      ]
    },
    {
      "cell_type": "code",
      "metadata": {
        "id": "YBkpcpg4wTxk",
        "colab_type": "code",
        "colab": {}
      },
      "source": [
        "from sklearn.model_selection import train_test_split"
      ],
      "execution_count": 0,
      "outputs": []
    },
    {
      "cell_type": "code",
      "metadata": {
        "id": "8AoLMcoEwufh",
        "colab_type": "code",
        "colab": {}
      },
      "source": [
        "from sklearn.datasets import load_iris"
      ],
      "execution_count": 0,
      "outputs": []
    },
    {
      "cell_type": "code",
      "metadata": {
        "id": "8WzAy8YxzJee",
        "colab_type": "code",
        "colab": {}
      },
      "source": [
        "iris_data = load_iris()"
      ],
      "execution_count": 0,
      "outputs": []
    },
    {
      "cell_type": "code",
      "metadata": {
        "id": "klUJ7S_ezRNI",
        "colab_type": "code",
        "colab": {
          "base_uri": "https://localhost:8080/",
          "height": 36
        },
        "outputId": "d2ae246c-c495-4c39-ea72-1c2e9aa89be8"
      },
      "source": [
        "X=iris_data.data\n",
        "Y=iris_data.target\n",
        "\n",
        "X.shape, Y.shape"
      ],
      "execution_count": 8,
      "outputs": [
        {
          "output_type": "execute_result",
          "data": {
            "text/plain": [
              "((150, 4), (150,))"
            ]
          },
          "metadata": {
            "tags": []
          },
          "execution_count": 8
        }
      ]
    },
    {
      "cell_type": "code",
      "metadata": {
        "id": "QJRB-QWgznz7",
        "colab_type": "code",
        "colab": {}
      },
      "source": [
        "#Xtrain, Xtest,Ytrain, Ttest = train_test_split(X,Y,test_size=0.3333)\n",
        "Xtrain, Xtest,Ytrain, Ttest = train_test_split(X,Y,)"
      ],
      "execution_count": 0,
      "outputs": []
    },
    {
      "cell_type": "code",
      "metadata": {
        "id": "lzC0_L4M0Ex_",
        "colab_type": "code",
        "colab": {
          "base_uri": "https://localhost:8080/",
          "height": 36
        },
        "outputId": "0b167299-38d3-4ebe-ce25-d459d22425cb"
      },
      "source": [
        "Xtrain.shape, Xtest.shape,Ytrain.shape, Ttest.shape"
      ],
      "execution_count": 10,
      "outputs": [
        {
          "output_type": "execute_result",
          "data": {
            "text/plain": [
              "((112, 4), (38, 4), (112,), (38,))"
            ]
          },
          "metadata": {
            "tags": []
          },
          "execution_count": 10
        }
      ]
    },
    {
      "cell_type": "code",
      "metadata": {
        "id": "UoCJoVBn0UAX",
        "colab_type": "code",
        "colab": {}
      },
      "source": [
        "def train_test_val_split(X,Y):\n",
        "  Xtn,Xtt,Ytn,Ytt=train_test_split(X,Y)\n",
        "  Xv,Xtt,Yv,Ytt=train_test_split(Xtt,Ytt)\n",
        "  return Xtn,Ytn,Xtt,Ytt,Xv,Yv"
      ],
      "execution_count": 0,
      "outputs": []
    },
    {
      "cell_type": "code",
      "metadata": {
        "id": "Ija-3xjBOwtD",
        "colab_type": "code",
        "colab": {
          "base_uri": "https://localhost:8080/",
          "height": 36
        },
        "outputId": "45a09c68-1b9d-48ff-d471-6ef42fb64c34"
      },
      "source": [
        "Xtn,Ytn,Xtt,Ytt,Xv,Yv = train_test_val_split(X,Y)\n",
        "Xtn.shape,Ytn.shape,Xtt.shape,Ytt.shape,Xv.shape,Yv.shape"
      ],
      "execution_count": 16,
      "outputs": [
        {
          "output_type": "execute_result",
          "data": {
            "text/plain": [
              "((112, 4), (112,), (10, 4), (10,), (28, 4), (28,))"
            ]
          },
          "metadata": {
            "tags": []
          },
          "execution_count": 16
        }
      ]
    }
  ]
}